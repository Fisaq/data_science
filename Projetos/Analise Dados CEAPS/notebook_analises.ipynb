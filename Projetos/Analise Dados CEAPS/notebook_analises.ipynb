{
  "nbformat": 4,
  "nbformat_minor": 0,
  "metadata": {
    "colab": {
      "provenance": []
    },
    "kernelspec": {
      "name": "python3",
      "display_name": "Python 3"
    },
    "language_info": {
      "name": "python"
    }
  },
  "cells": [
    {
      "cell_type": "markdown",
      "source": [
        "# **Projeto Ciência de Dados - Desafio 7 Days of Code [Alura]**\n",
        "\n",
        "O presente notebook consiste na resolução de um desafio proposto pela Alura, onde estarei analisando os dados abertos da CEAPS(Cota para Exercício da Atividade Parlamentar dos Senadores).\n",
        "\n",
        "O objetivo deste projeto é analisar os dados abertos do Senado, afim  de identificar como os senadores estão utilizando o dinheiro público, bem como propor propostas de melhoria, caso necessário."
      ],
      "metadata": {
        "id": "RpCvjmhLQm4j"
      }
    },
    {
      "cell_type": "code",
      "execution_count": 1,
      "metadata": {
        "id": "r8r_VjLxQbIS"
      },
      "outputs": [],
      "source": [
        "# Bibliotecas utilizadas\n",
        "import pandas as pd\n",
        "import numpy as np\n",
        "import matplotlib.pyplot as plt\n",
        "import chardet # biblioteca para identificar a codificacao do arquivo"
      ]
    },
    {
      "cell_type": "markdown",
      "source": [
        "## **1. Extração dos Dados**"
      ],
      "metadata": {
        "id": "oOQ6C71eSP0y"
      }
    },
    {
      "cell_type": "markdown",
      "source": [
        "Os dados fornecidos no portal da CEAPS, são divididos por ano. Sendo assim para a estruturação da nossa análise, estarei realizando um merge nas bases de dados e separando-as por ano, criando apenas um dataset."
      ],
      "metadata": {
        "id": "FFja2o36SUCq"
      }
    },
    {
      "cell_type": "code",
      "source": [
        "# Criando uma lista de caminhos para cada dataset\n",
        "caminhos = []\n",
        "\n",
        "for n in range(2008,2023):\n",
        "  caminho = f'/content/drive/MyDrive/Colab Notebooks/analise_dados_ceaps/dados_ceaps/despesa_ceaps_{n}.csv'\n",
        "  caminho = str(caminho)\n",
        "  caminhos.append(caminho)\n",
        "\n",
        "caminhos"
      ],
      "metadata": {
        "colab": {
          "base_uri": "https://localhost:8080/"
        },
        "id": "p8hvHHM-BWxZ",
        "outputId": "c9b0eda5-1864-4f87-a46a-7bff2ff49289"
      },
      "execution_count": 2,
      "outputs": [
        {
          "output_type": "execute_result",
          "data": {
            "text/plain": [
              "['/content/drive/MyDrive/Colab Notebooks/analise_dados_ceaps/dados_ceaps/despesa_ceaps_2008.csv',\n",
              " '/content/drive/MyDrive/Colab Notebooks/analise_dados_ceaps/dados_ceaps/despesa_ceaps_2009.csv',\n",
              " '/content/drive/MyDrive/Colab Notebooks/analise_dados_ceaps/dados_ceaps/despesa_ceaps_2010.csv',\n",
              " '/content/drive/MyDrive/Colab Notebooks/analise_dados_ceaps/dados_ceaps/despesa_ceaps_2011.csv',\n",
              " '/content/drive/MyDrive/Colab Notebooks/analise_dados_ceaps/dados_ceaps/despesa_ceaps_2012.csv',\n",
              " '/content/drive/MyDrive/Colab Notebooks/analise_dados_ceaps/dados_ceaps/despesa_ceaps_2013.csv',\n",
              " '/content/drive/MyDrive/Colab Notebooks/analise_dados_ceaps/dados_ceaps/despesa_ceaps_2014.csv',\n",
              " '/content/drive/MyDrive/Colab Notebooks/analise_dados_ceaps/dados_ceaps/despesa_ceaps_2015.csv',\n",
              " '/content/drive/MyDrive/Colab Notebooks/analise_dados_ceaps/dados_ceaps/despesa_ceaps_2016.csv',\n",
              " '/content/drive/MyDrive/Colab Notebooks/analise_dados_ceaps/dados_ceaps/despesa_ceaps_2017.csv',\n",
              " '/content/drive/MyDrive/Colab Notebooks/analise_dados_ceaps/dados_ceaps/despesa_ceaps_2018.csv',\n",
              " '/content/drive/MyDrive/Colab Notebooks/analise_dados_ceaps/dados_ceaps/despesa_ceaps_2019.csv',\n",
              " '/content/drive/MyDrive/Colab Notebooks/analise_dados_ceaps/dados_ceaps/despesa_ceaps_2020.csv',\n",
              " '/content/drive/MyDrive/Colab Notebooks/analise_dados_ceaps/dados_ceaps/despesa_ceaps_2021.csv',\n",
              " '/content/drive/MyDrive/Colab Notebooks/analise_dados_ceaps/dados_ceaps/despesa_ceaps_2022.csv']"
            ]
          },
          "metadata": {},
          "execution_count": 2
        }
      ]
    },
    {
      "cell_type": "markdown",
      "source": [
        "Antes de iniciarmos a junção dos dados, vamos analisar como eles estão estruturados, para entendermos os possíveis tratamentos necessários."
      ],
      "metadata": {
        "id": "FeMA072uCkJq"
      }
    },
    {
      "cell_type": "code",
      "source": [
        "def detectar_codificacao_arquivo(caminho_arquivo):\n",
        "  with open(caminho_arquivo, 'rb') as arquivo:\n",
        "    resultado = chardet.detect(arquivo.read(10000))\n",
        "    return resultado['encoding']"
      ],
      "metadata": {
        "id": "l1QU6ptgBANU"
      },
      "execution_count": 3,
      "outputs": []
    },
    {
      "cell_type": "code",
      "source": [
        "caminho_2008 = caminhos[0]\n",
        "codificacao = detectar_codificacao_arquivo(caminho_2008)"
      ],
      "metadata": {
        "id": "OEmINY_sV7cv"
      },
      "execution_count": 4,
      "outputs": []
    },
    {
      "cell_type": "code",
      "source": [
        "# Lendo uma prévia do arquivo, antes de transformalo em um dataset\n",
        "with open(caminho_2008, 'r', encoding=codificacao) as arq:\n",
        "  linhas = arq.readlines()\n",
        "\n",
        "linhas[0:5]"
      ],
      "metadata": {
        "colab": {
          "base_uri": "https://localhost:8080/"
        },
        "id": "BBi-tZLgXkvQ",
        "outputId": "a4ceb006-6170-459b-904a-25bb2cf25ac2"
      },
      "execution_count": 5,
      "outputs": [
        {
          "output_type": "execute_result",
          "data": {
            "text/plain": [
              "['\"ULTIMA ATUALIZACAO\";\"06/08/2021 02:00\"\\n',\n",
              " '\"ANO\";\"MES\";\"SENADOR\";\"TIPO_DESPESA\";\"CNPJ_CPF\";\"FORNECEDOR\";\"DOCUMENTO\";\"DATA\";\"DETALHAMENTO\";\"VALOR_REEMBOLSADO\";\"COD_DOCUMENTO\"\\n',\n",
              " '\"2008\";\"9\";\"ADA MELLO\";\"Contratação de consultorias, assessorias, pesquisas, trabalhos técnicos e outros serviços de apoio ao exercício do mandato parlamentar\";\"\";\"\";\"\";\"\";\"\";\"12351,52\";\"2008090814004\"\\n',\n",
              " '\"2008\";\"9\";\"ADA MELLO\";\"Locomoção, hospedagem, alimentação, combustíveis e lubrificantes\";\"\";\"\";\"\";\"\";\"\";\"386,6\";\"2008090814003\"\\n',\n",
              " '\"2008\";\"10\";\"ADA MELLO\";\"Contratação de consultorias, assessorias, pesquisas, trabalhos técnicos e outros serviços de apoio ao exercício do mandato parlamentar\";\"\";\"\";\"\";\"\";\"\";\"12351,52\";\"2008100814004\"\\n']"
            ]
          },
          "metadata": {},
          "execution_count": 5
        }
      ]
    },
    {
      "cell_type": "markdown",
      "source": [
        "Lendo as primeiras linhas do arquivo, podemos verificar algumas coisas:\n",
        "\n",
        "* A primeira linha contém a data de atualização dos dados, o que pode dificultar a leitura do arquivo por parte do pandas, uma vez que a estrutura da planilha está em um formato não usual.\n",
        "\n",
        "* O separador utilizado é o \";\", o que também pode prejudicar a leitura.\n",
        "\n",
        "Sendo assim, vamos cuidar para que as alterações necessárias sejam feitas para conseguirmos o nosso objeto dataframe:"
      ],
      "metadata": {
        "id": "QnlbIOJVYbVC"
      }
    },
    {
      "cell_type": "code",
      "source": [
        "dados_2008 = pd.read_csv(caminho_2008, encoding=codificacao, sep=\";\", skiprows=1)"
      ],
      "metadata": {
        "id": "xGcWlIViWDtL"
      },
      "execution_count": 6,
      "outputs": []
    },
    {
      "cell_type": "code",
      "source": [
        "dados_2008.head()"
      ],
      "metadata": {
        "colab": {
          "base_uri": "https://localhost:8080/",
          "height": 206
        },
        "id": "dYEFeOQMaJhD",
        "outputId": "2ec3b785-0e9c-438a-b50c-9872447f41f6"
      },
      "execution_count": 7,
      "outputs": [
        {
          "output_type": "execute_result",
          "data": {
            "text/plain": [
              "    ANO  MES    SENADOR                                       TIPO_DESPESA  \\\n",
              "0  2008    9  ADA MELLO  Contratação de consultorias, assessorias, pesq...   \n",
              "1  2008    9  ADA MELLO  Locomoção, hospedagem, alimentação, combustíve...   \n",
              "2  2008   10  ADA MELLO  Contratação de consultorias, assessorias, pesq...   \n",
              "3  2008   10  ADA MELLO  Locomoção, hospedagem, alimentação, combustíve...   \n",
              "4  2008   11  ADA MELLO  Contratação de consultorias, assessorias, pesq...   \n",
              "\n",
              "   CNPJ_CPF  FORNECEDOR  DOCUMENTO  DATA  DETALHAMENTO VALOR_REEMBOLSADO  \\\n",
              "0       NaN         NaN        NaN   NaN           NaN          12351,52   \n",
              "1       NaN         NaN        NaN   NaN           NaN             386,6   \n",
              "2       NaN         NaN        NaN   NaN           NaN          12351,52   \n",
              "3       NaN         NaN        NaN   NaN           NaN           2610,68   \n",
              "4       NaN         NaN        NaN   NaN           NaN          12351,52   \n",
              "\n",
              "   COD_DOCUMENTO  \n",
              "0  2008090814004  \n",
              "1  2008090814003  \n",
              "2  2008100814004  \n",
              "3  2008100814003  \n",
              "4  2008110814004  "
            ],
            "text/html": [
              "\n",
              "  <div id=\"df-05ce0511-23d5-4b49-869e-833d7645541b\" class=\"colab-df-container\">\n",
              "    <div>\n",
              "<style scoped>\n",
              "    .dataframe tbody tr th:only-of-type {\n",
              "        vertical-align: middle;\n",
              "    }\n",
              "\n",
              "    .dataframe tbody tr th {\n",
              "        vertical-align: top;\n",
              "    }\n",
              "\n",
              "    .dataframe thead th {\n",
              "        text-align: right;\n",
              "    }\n",
              "</style>\n",
              "<table border=\"1\" class=\"dataframe\">\n",
              "  <thead>\n",
              "    <tr style=\"text-align: right;\">\n",
              "      <th></th>\n",
              "      <th>ANO</th>\n",
              "      <th>MES</th>\n",
              "      <th>SENADOR</th>\n",
              "      <th>TIPO_DESPESA</th>\n",
              "      <th>CNPJ_CPF</th>\n",
              "      <th>FORNECEDOR</th>\n",
              "      <th>DOCUMENTO</th>\n",
              "      <th>DATA</th>\n",
              "      <th>DETALHAMENTO</th>\n",
              "      <th>VALOR_REEMBOLSADO</th>\n",
              "      <th>COD_DOCUMENTO</th>\n",
              "    </tr>\n",
              "  </thead>\n",
              "  <tbody>\n",
              "    <tr>\n",
              "      <th>0</th>\n",
              "      <td>2008</td>\n",
              "      <td>9</td>\n",
              "      <td>ADA MELLO</td>\n",
              "      <td>Contratação de consultorias, assessorias, pesq...</td>\n",
              "      <td>NaN</td>\n",
              "      <td>NaN</td>\n",
              "      <td>NaN</td>\n",
              "      <td>NaN</td>\n",
              "      <td>NaN</td>\n",
              "      <td>12351,52</td>\n",
              "      <td>2008090814004</td>\n",
              "    </tr>\n",
              "    <tr>\n",
              "      <th>1</th>\n",
              "      <td>2008</td>\n",
              "      <td>9</td>\n",
              "      <td>ADA MELLO</td>\n",
              "      <td>Locomoção, hospedagem, alimentação, combustíve...</td>\n",
              "      <td>NaN</td>\n",
              "      <td>NaN</td>\n",
              "      <td>NaN</td>\n",
              "      <td>NaN</td>\n",
              "      <td>NaN</td>\n",
              "      <td>386,6</td>\n",
              "      <td>2008090814003</td>\n",
              "    </tr>\n",
              "    <tr>\n",
              "      <th>2</th>\n",
              "      <td>2008</td>\n",
              "      <td>10</td>\n",
              "      <td>ADA MELLO</td>\n",
              "      <td>Contratação de consultorias, assessorias, pesq...</td>\n",
              "      <td>NaN</td>\n",
              "      <td>NaN</td>\n",
              "      <td>NaN</td>\n",
              "      <td>NaN</td>\n",
              "      <td>NaN</td>\n",
              "      <td>12351,52</td>\n",
              "      <td>2008100814004</td>\n",
              "    </tr>\n",
              "    <tr>\n",
              "      <th>3</th>\n",
              "      <td>2008</td>\n",
              "      <td>10</td>\n",
              "      <td>ADA MELLO</td>\n",
              "      <td>Locomoção, hospedagem, alimentação, combustíve...</td>\n",
              "      <td>NaN</td>\n",
              "      <td>NaN</td>\n",
              "      <td>NaN</td>\n",
              "      <td>NaN</td>\n",
              "      <td>NaN</td>\n",
              "      <td>2610,68</td>\n",
              "      <td>2008100814003</td>\n",
              "    </tr>\n",
              "    <tr>\n",
              "      <th>4</th>\n",
              "      <td>2008</td>\n",
              "      <td>11</td>\n",
              "      <td>ADA MELLO</td>\n",
              "      <td>Contratação de consultorias, assessorias, pesq...</td>\n",
              "      <td>NaN</td>\n",
              "      <td>NaN</td>\n",
              "      <td>NaN</td>\n",
              "      <td>NaN</td>\n",
              "      <td>NaN</td>\n",
              "      <td>12351,52</td>\n",
              "      <td>2008110814004</td>\n",
              "    </tr>\n",
              "  </tbody>\n",
              "</table>\n",
              "</div>\n",
              "    <div class=\"colab-df-buttons\">\n",
              "\n",
              "  <div class=\"colab-df-container\">\n",
              "    <button class=\"colab-df-convert\" onclick=\"convertToInteractive('df-05ce0511-23d5-4b49-869e-833d7645541b')\"\n",
              "            title=\"Convert this dataframe to an interactive table.\"\n",
              "            style=\"display:none;\">\n",
              "\n",
              "  <svg xmlns=\"http://www.w3.org/2000/svg\" height=\"24px\" viewBox=\"0 -960 960 960\">\n",
              "    <path d=\"M120-120v-720h720v720H120Zm60-500h600v-160H180v160Zm220 220h160v-160H400v160Zm0 220h160v-160H400v160ZM180-400h160v-160H180v160Zm440 0h160v-160H620v160ZM180-180h160v-160H180v160Zm440 0h160v-160H620v160Z\"/>\n",
              "  </svg>\n",
              "    </button>\n",
              "\n",
              "  <style>\n",
              "    .colab-df-container {\n",
              "      display:flex;\n",
              "      gap: 12px;\n",
              "    }\n",
              "\n",
              "    .colab-df-convert {\n",
              "      background-color: #E8F0FE;\n",
              "      border: none;\n",
              "      border-radius: 50%;\n",
              "      cursor: pointer;\n",
              "      display: none;\n",
              "      fill: #1967D2;\n",
              "      height: 32px;\n",
              "      padding: 0 0 0 0;\n",
              "      width: 32px;\n",
              "    }\n",
              "\n",
              "    .colab-df-convert:hover {\n",
              "      background-color: #E2EBFA;\n",
              "      box-shadow: 0px 1px 2px rgba(60, 64, 67, 0.3), 0px 1px 3px 1px rgba(60, 64, 67, 0.15);\n",
              "      fill: #174EA6;\n",
              "    }\n",
              "\n",
              "    .colab-df-buttons div {\n",
              "      margin-bottom: 4px;\n",
              "    }\n",
              "\n",
              "    [theme=dark] .colab-df-convert {\n",
              "      background-color: #3B4455;\n",
              "      fill: #D2E3FC;\n",
              "    }\n",
              "\n",
              "    [theme=dark] .colab-df-convert:hover {\n",
              "      background-color: #434B5C;\n",
              "      box-shadow: 0px 1px 3px 1px rgba(0, 0, 0, 0.15);\n",
              "      filter: drop-shadow(0px 1px 2px rgba(0, 0, 0, 0.3));\n",
              "      fill: #FFFFFF;\n",
              "    }\n",
              "  </style>\n",
              "\n",
              "    <script>\n",
              "      const buttonEl =\n",
              "        document.querySelector('#df-05ce0511-23d5-4b49-869e-833d7645541b button.colab-df-convert');\n",
              "      buttonEl.style.display =\n",
              "        google.colab.kernel.accessAllowed ? 'block' : 'none';\n",
              "\n",
              "      async function convertToInteractive(key) {\n",
              "        const element = document.querySelector('#df-05ce0511-23d5-4b49-869e-833d7645541b');\n",
              "        const dataTable =\n",
              "          await google.colab.kernel.invokeFunction('convertToInteractive',\n",
              "                                                    [key], {});\n",
              "        if (!dataTable) return;\n",
              "\n",
              "        const docLinkHtml = 'Like what you see? Visit the ' +\n",
              "          '<a target=\"_blank\" href=https://colab.research.google.com/notebooks/data_table.ipynb>data table notebook</a>'\n",
              "          + ' to learn more about interactive tables.';\n",
              "        element.innerHTML = '';\n",
              "        dataTable['output_type'] = 'display_data';\n",
              "        await google.colab.output.renderOutput(dataTable, element);\n",
              "        const docLink = document.createElement('div');\n",
              "        docLink.innerHTML = docLinkHtml;\n",
              "        element.appendChild(docLink);\n",
              "      }\n",
              "    </script>\n",
              "  </div>\n",
              "\n",
              "\n",
              "<div id=\"df-3abd15ee-864b-4a1a-a976-f6d5dbff54e8\">\n",
              "  <button class=\"colab-df-quickchart\" onclick=\"quickchart('df-3abd15ee-864b-4a1a-a976-f6d5dbff54e8')\"\n",
              "            title=\"Suggest charts\"\n",
              "            style=\"display:none;\">\n",
              "\n",
              "<svg xmlns=\"http://www.w3.org/2000/svg\" height=\"24px\"viewBox=\"0 0 24 24\"\n",
              "     width=\"24px\">\n",
              "    <g>\n",
              "        <path d=\"M19 3H5c-1.1 0-2 .9-2 2v14c0 1.1.9 2 2 2h14c1.1 0 2-.9 2-2V5c0-1.1-.9-2-2-2zM9 17H7v-7h2v7zm4 0h-2V7h2v10zm4 0h-2v-4h2v4z\"/>\n",
              "    </g>\n",
              "</svg>\n",
              "  </button>\n",
              "\n",
              "<style>\n",
              "  .colab-df-quickchart {\n",
              "      --bg-color: #E8F0FE;\n",
              "      --fill-color: #1967D2;\n",
              "      --hover-bg-color: #E2EBFA;\n",
              "      --hover-fill-color: #174EA6;\n",
              "      --disabled-fill-color: #AAA;\n",
              "      --disabled-bg-color: #DDD;\n",
              "  }\n",
              "\n",
              "  [theme=dark] .colab-df-quickchart {\n",
              "      --bg-color: #3B4455;\n",
              "      --fill-color: #D2E3FC;\n",
              "      --hover-bg-color: #434B5C;\n",
              "      --hover-fill-color: #FFFFFF;\n",
              "      --disabled-bg-color: #3B4455;\n",
              "      --disabled-fill-color: #666;\n",
              "  }\n",
              "\n",
              "  .colab-df-quickchart {\n",
              "    background-color: var(--bg-color);\n",
              "    border: none;\n",
              "    border-radius: 50%;\n",
              "    cursor: pointer;\n",
              "    display: none;\n",
              "    fill: var(--fill-color);\n",
              "    height: 32px;\n",
              "    padding: 0;\n",
              "    width: 32px;\n",
              "  }\n",
              "\n",
              "  .colab-df-quickchart:hover {\n",
              "    background-color: var(--hover-bg-color);\n",
              "    box-shadow: 0 1px 2px rgba(60, 64, 67, 0.3), 0 1px 3px 1px rgba(60, 64, 67, 0.15);\n",
              "    fill: var(--button-hover-fill-color);\n",
              "  }\n",
              "\n",
              "  .colab-df-quickchart-complete:disabled,\n",
              "  .colab-df-quickchart-complete:disabled:hover {\n",
              "    background-color: var(--disabled-bg-color);\n",
              "    fill: var(--disabled-fill-color);\n",
              "    box-shadow: none;\n",
              "  }\n",
              "\n",
              "  .colab-df-spinner {\n",
              "    border: 2px solid var(--fill-color);\n",
              "    border-color: transparent;\n",
              "    border-bottom-color: var(--fill-color);\n",
              "    animation:\n",
              "      spin 1s steps(1) infinite;\n",
              "  }\n",
              "\n",
              "  @keyframes spin {\n",
              "    0% {\n",
              "      border-color: transparent;\n",
              "      border-bottom-color: var(--fill-color);\n",
              "      border-left-color: var(--fill-color);\n",
              "    }\n",
              "    20% {\n",
              "      border-color: transparent;\n",
              "      border-left-color: var(--fill-color);\n",
              "      border-top-color: var(--fill-color);\n",
              "    }\n",
              "    30% {\n",
              "      border-color: transparent;\n",
              "      border-left-color: var(--fill-color);\n",
              "      border-top-color: var(--fill-color);\n",
              "      border-right-color: var(--fill-color);\n",
              "    }\n",
              "    40% {\n",
              "      border-color: transparent;\n",
              "      border-right-color: var(--fill-color);\n",
              "      border-top-color: var(--fill-color);\n",
              "    }\n",
              "    60% {\n",
              "      border-color: transparent;\n",
              "      border-right-color: var(--fill-color);\n",
              "    }\n",
              "    80% {\n",
              "      border-color: transparent;\n",
              "      border-right-color: var(--fill-color);\n",
              "      border-bottom-color: var(--fill-color);\n",
              "    }\n",
              "    90% {\n",
              "      border-color: transparent;\n",
              "      border-bottom-color: var(--fill-color);\n",
              "    }\n",
              "  }\n",
              "</style>\n",
              "\n",
              "  <script>\n",
              "    async function quickchart(key) {\n",
              "      const quickchartButtonEl =\n",
              "        document.querySelector('#' + key + ' button');\n",
              "      quickchartButtonEl.disabled = true;  // To prevent multiple clicks.\n",
              "      quickchartButtonEl.classList.add('colab-df-spinner');\n",
              "      try {\n",
              "        const charts = await google.colab.kernel.invokeFunction(\n",
              "            'suggestCharts', [key], {});\n",
              "      } catch (error) {\n",
              "        console.error('Error during call to suggestCharts:', error);\n",
              "      }\n",
              "      quickchartButtonEl.classList.remove('colab-df-spinner');\n",
              "      quickchartButtonEl.classList.add('colab-df-quickchart-complete');\n",
              "    }\n",
              "    (() => {\n",
              "      let quickchartButtonEl =\n",
              "        document.querySelector('#df-3abd15ee-864b-4a1a-a976-f6d5dbff54e8 button');\n",
              "      quickchartButtonEl.style.display =\n",
              "        google.colab.kernel.accessAllowed ? 'block' : 'none';\n",
              "    })();\n",
              "  </script>\n",
              "</div>\n",
              "\n",
              "    </div>\n",
              "  </div>\n"
            ],
            "application/vnd.google.colaboratory.intrinsic+json": {
              "type": "dataframe",
              "variable_name": "dados_2008",
              "summary": "{\n  \"name\": \"dados_2008\",\n  \"rows\": 2449,\n  \"fields\": [\n    {\n      \"column\": \"ANO\",\n      \"properties\": {\n        \"dtype\": \"number\",\n        \"std\": 0,\n        \"min\": 2008,\n        \"max\": 2008,\n        \"num_unique_values\": 1,\n        \"samples\": [\n          2008\n        ],\n        \"semantic_type\": \"\",\n        \"description\": \"\"\n      }\n    },\n    {\n      \"column\": \"MES\",\n      \"properties\": {\n        \"dtype\": \"number\",\n        \"std\": 3,\n        \"min\": 2,\n        \"max\": 12,\n        \"num_unique_values\": 11,\n        \"samples\": [\n          3\n        ],\n        \"semantic_type\": \"\",\n        \"description\": \"\"\n      }\n    },\n    {\n      \"column\": \"SENADOR\",\n      \"properties\": {\n        \"dtype\": \"category\",\n        \"num_unique_values\": 85,\n        \"samples\": [\n          \"SIB\\u00c1 MACHADO\"\n        ],\n        \"semantic_type\": \"\",\n        \"description\": \"\"\n      }\n    },\n    {\n      \"column\": \"TIPO_DESPESA\",\n      \"properties\": {\n        \"dtype\": \"category\",\n        \"num_unique_values\": 5,\n        \"samples\": [\n          \"Locomo\\u00e7\\u00e3o, hospedagem, alimenta\\u00e7\\u00e3o, combust\\u00edveis e lubrificantes\"\n        ],\n        \"semantic_type\": \"\",\n        \"description\": \"\"\n      }\n    },\n    {\n      \"column\": \"CNPJ_CPF\",\n      \"properties\": {\n        \"dtype\": \"number\",\n        \"std\": null,\n        \"min\": null,\n        \"max\": null,\n        \"num_unique_values\": 0,\n        \"samples\": [],\n        \"semantic_type\": \"\",\n        \"description\": \"\"\n      }\n    },\n    {\n      \"column\": \"FORNECEDOR\",\n      \"properties\": {\n        \"dtype\": \"number\",\n        \"std\": null,\n        \"min\": null,\n        \"max\": null,\n        \"num_unique_values\": 0,\n        \"samples\": [],\n        \"semantic_type\": \"\",\n        \"description\": \"\"\n      }\n    },\n    {\n      \"column\": \"DOCUMENTO\",\n      \"properties\": {\n        \"dtype\": \"number\",\n        \"std\": null,\n        \"min\": null,\n        \"max\": null,\n        \"num_unique_values\": 0,\n        \"samples\": [],\n        \"semantic_type\": \"\",\n        \"description\": \"\"\n      }\n    },\n    {\n      \"column\": \"DATA\",\n      \"properties\": {\n        \"dtype\": \"number\",\n        \"std\": null,\n        \"min\": null,\n        \"max\": null,\n        \"num_unique_values\": 0,\n        \"samples\": [],\n        \"semantic_type\": \"\",\n        \"description\": \"\"\n      }\n    },\n    {\n      \"column\": \"DETALHAMENTO\",\n      \"properties\": {\n        \"dtype\": \"number\",\n        \"std\": null,\n        \"min\": null,\n        \"max\": null,\n        \"num_unique_values\": 0,\n        \"samples\": [],\n        \"semantic_type\": \"\",\n        \"description\": \"\"\n      }\n    },\n    {\n      \"column\": \"VALOR_REEMBOLSADO\",\n      \"properties\": {\n        \"dtype\": \"string\",\n        \"num_unique_values\": 2102,\n        \"samples\": [],\n        \"semantic_type\": \"\",\n        \"description\": \"\"\n      }\n    },\n    {\n      \"column\": \"COD_DOCUMENTO\",\n      \"properties\": {\n        \"dtype\": \"number\",\n        \"std\": 32456352,\n        \"min\": 2008020011303,\n        \"max\": 2008120814004,\n        \"num_unique_values\": 2449,\n        \"samples\": [],\n        \"semantic_type\": \"\",\n        \"description\": \"\"\n      }\n    }\n  ]\n}"
            }
          },
          "metadata": {},
          "execution_count": 7
        }
      ]
    },
    {
      "cell_type": "markdown",
      "source": [
        "Com a leitura realizada adequadamente, vamos realizar o mesmo processo para todos os arquivos, antes de juntá-los."
      ],
      "metadata": {
        "id": "f6Ay0ig7aQqk"
      }
    },
    {
      "cell_type": "code",
      "source": [
        "dataframes = []\n",
        "\n",
        "def aloca_dataframes(lista_caminhos, codificacao):\n",
        "  for caminho in lista_caminhos:\n",
        "    dado = pd.read_csv(caminho, encoding=codificacao, sep=';',skiprows=1)\n",
        "    dataframes.append(dado)\n",
        "  return dataframes"
      ],
      "metadata": {
        "id": "MN_lcp7paPrM"
      },
      "execution_count": 19,
      "outputs": []
    },
    {
      "cell_type": "code",
      "source": [
        "dataframes = aloca_dataframes(caminhos, codificacao)"
      ],
      "metadata": {
        "id": "O6pASApQaPxe"
      },
      "execution_count": 20,
      "outputs": []
    },
    {
      "cell_type": "code",
      "source": [
        "# Verificando se todos os dataframes foram alocados\n",
        "for i in range(0,15):\n",
        " print(dataframes[i].ANO[0])"
      ],
      "metadata": {
        "colab": {
          "base_uri": "https://localhost:8080/"
        },
        "id": "gMeX8q0xczpm",
        "outputId": "0c256aae-195b-42cf-8822-6b76f5f03ac4"
      },
      "execution_count": 29,
      "outputs": [
        {
          "output_type": "stream",
          "name": "stdout",
          "text": [
            "2008\n",
            "2009\n",
            "2010\n",
            "2011\n",
            "2012\n",
            "2013\n",
            "2014\n",
            "2015\n",
            "2016\n",
            "2017\n",
            "2018\n",
            "2019\n",
            "2020\n",
            "2021\n",
            "2022\n"
          ]
        }
      ]
    },
    {
      "cell_type": "markdown",
      "source": [
        "Após criarmos nossa lista de dataframes, o próximo passo será juntar todos estes dados em um único dataframe, separado por ano."
      ],
      "metadata": {
        "id": "r6abA5wnf1r1"
      }
    },
    {
      "cell_type": "code",
      "source": [
        "dados_ceaps = pd.concat(dataframes, ignore_index=True)"
      ],
      "metadata": {
        "id": "A0yu5V1vf0w9"
      },
      "execution_count": 30,
      "outputs": []
    },
    {
      "cell_type": "code",
      "source": [
        "dados_ceaps.head()"
      ],
      "metadata": {
        "colab": {
          "base_uri": "https://localhost:8080/",
          "height": 206
        },
        "id": "Q7FUfMIeg-ur",
        "outputId": "05532707-7bd6-42e2-82d4-aa217cc63e09"
      },
      "execution_count": 33,
      "outputs": [
        {
          "output_type": "execute_result",
          "data": {
            "text/plain": [
              "    ANO  MES    SENADOR                                       TIPO_DESPESA  \\\n",
              "0  2008    9  ADA MELLO  Contratação de consultorias, assessorias, pesq...   \n",
              "1  2008    9  ADA MELLO  Locomoção, hospedagem, alimentação, combustíve...   \n",
              "2  2008   10  ADA MELLO  Contratação de consultorias, assessorias, pesq...   \n",
              "3  2008   10  ADA MELLO  Locomoção, hospedagem, alimentação, combustíve...   \n",
              "4  2008   11  ADA MELLO  Contratação de consultorias, assessorias, pesq...   \n",
              "\n",
              "  CNPJ_CPF FORNECEDOR DOCUMENTO DATA DETALHAMENTO VALOR_REEMBOLSADO  \\\n",
              "0      NaN        NaN       NaN  NaN          NaN          12351,52   \n",
              "1      NaN        NaN       NaN  NaN          NaN             386,6   \n",
              "2      NaN        NaN       NaN  NaN          NaN          12351,52   \n",
              "3      NaN        NaN       NaN  NaN          NaN           2610,68   \n",
              "4      NaN        NaN       NaN  NaN          NaN          12351,52   \n",
              "\n",
              "   COD_DOCUMENTO  \n",
              "0   2.008091e+12  \n",
              "1   2.008091e+12  \n",
              "2   2.008101e+12  \n",
              "3   2.008101e+12  \n",
              "4   2.008111e+12  "
            ],
            "text/html": [
              "\n",
              "  <div id=\"df-ad04188f-78aa-492e-8cff-fe40e4932503\" class=\"colab-df-container\">\n",
              "    <div>\n",
              "<style scoped>\n",
              "    .dataframe tbody tr th:only-of-type {\n",
              "        vertical-align: middle;\n",
              "    }\n",
              "\n",
              "    .dataframe tbody tr th {\n",
              "        vertical-align: top;\n",
              "    }\n",
              "\n",
              "    .dataframe thead th {\n",
              "        text-align: right;\n",
              "    }\n",
              "</style>\n",
              "<table border=\"1\" class=\"dataframe\">\n",
              "  <thead>\n",
              "    <tr style=\"text-align: right;\">\n",
              "      <th></th>\n",
              "      <th>ANO</th>\n",
              "      <th>MES</th>\n",
              "      <th>SENADOR</th>\n",
              "      <th>TIPO_DESPESA</th>\n",
              "      <th>CNPJ_CPF</th>\n",
              "      <th>FORNECEDOR</th>\n",
              "      <th>DOCUMENTO</th>\n",
              "      <th>DATA</th>\n",
              "      <th>DETALHAMENTO</th>\n",
              "      <th>VALOR_REEMBOLSADO</th>\n",
              "      <th>COD_DOCUMENTO</th>\n",
              "    </tr>\n",
              "  </thead>\n",
              "  <tbody>\n",
              "    <tr>\n",
              "      <th>0</th>\n",
              "      <td>2008</td>\n",
              "      <td>9</td>\n",
              "      <td>ADA MELLO</td>\n",
              "      <td>Contratação de consultorias, assessorias, pesq...</td>\n",
              "      <td>NaN</td>\n",
              "      <td>NaN</td>\n",
              "      <td>NaN</td>\n",
              "      <td>NaN</td>\n",
              "      <td>NaN</td>\n",
              "      <td>12351,52</td>\n",
              "      <td>2.008091e+12</td>\n",
              "    </tr>\n",
              "    <tr>\n",
              "      <th>1</th>\n",
              "      <td>2008</td>\n",
              "      <td>9</td>\n",
              "      <td>ADA MELLO</td>\n",
              "      <td>Locomoção, hospedagem, alimentação, combustíve...</td>\n",
              "      <td>NaN</td>\n",
              "      <td>NaN</td>\n",
              "      <td>NaN</td>\n",
              "      <td>NaN</td>\n",
              "      <td>NaN</td>\n",
              "      <td>386,6</td>\n",
              "      <td>2.008091e+12</td>\n",
              "    </tr>\n",
              "    <tr>\n",
              "      <th>2</th>\n",
              "      <td>2008</td>\n",
              "      <td>10</td>\n",
              "      <td>ADA MELLO</td>\n",
              "      <td>Contratação de consultorias, assessorias, pesq...</td>\n",
              "      <td>NaN</td>\n",
              "      <td>NaN</td>\n",
              "      <td>NaN</td>\n",
              "      <td>NaN</td>\n",
              "      <td>NaN</td>\n",
              "      <td>12351,52</td>\n",
              "      <td>2.008101e+12</td>\n",
              "    </tr>\n",
              "    <tr>\n",
              "      <th>3</th>\n",
              "      <td>2008</td>\n",
              "      <td>10</td>\n",
              "      <td>ADA MELLO</td>\n",
              "      <td>Locomoção, hospedagem, alimentação, combustíve...</td>\n",
              "      <td>NaN</td>\n",
              "      <td>NaN</td>\n",
              "      <td>NaN</td>\n",
              "      <td>NaN</td>\n",
              "      <td>NaN</td>\n",
              "      <td>2610,68</td>\n",
              "      <td>2.008101e+12</td>\n",
              "    </tr>\n",
              "    <tr>\n",
              "      <th>4</th>\n",
              "      <td>2008</td>\n",
              "      <td>11</td>\n",
              "      <td>ADA MELLO</td>\n",
              "      <td>Contratação de consultorias, assessorias, pesq...</td>\n",
              "      <td>NaN</td>\n",
              "      <td>NaN</td>\n",
              "      <td>NaN</td>\n",
              "      <td>NaN</td>\n",
              "      <td>NaN</td>\n",
              "      <td>12351,52</td>\n",
              "      <td>2.008111e+12</td>\n",
              "    </tr>\n",
              "  </tbody>\n",
              "</table>\n",
              "</div>\n",
              "    <div class=\"colab-df-buttons\">\n",
              "\n",
              "  <div class=\"colab-df-container\">\n",
              "    <button class=\"colab-df-convert\" onclick=\"convertToInteractive('df-ad04188f-78aa-492e-8cff-fe40e4932503')\"\n",
              "            title=\"Convert this dataframe to an interactive table.\"\n",
              "            style=\"display:none;\">\n",
              "\n",
              "  <svg xmlns=\"http://www.w3.org/2000/svg\" height=\"24px\" viewBox=\"0 -960 960 960\">\n",
              "    <path d=\"M120-120v-720h720v720H120Zm60-500h600v-160H180v160Zm220 220h160v-160H400v160Zm0 220h160v-160H400v160ZM180-400h160v-160H180v160Zm440 0h160v-160H620v160ZM180-180h160v-160H180v160Zm440 0h160v-160H620v160Z\"/>\n",
              "  </svg>\n",
              "    </button>\n",
              "\n",
              "  <style>\n",
              "    .colab-df-container {\n",
              "      display:flex;\n",
              "      gap: 12px;\n",
              "    }\n",
              "\n",
              "    .colab-df-convert {\n",
              "      background-color: #E8F0FE;\n",
              "      border: none;\n",
              "      border-radius: 50%;\n",
              "      cursor: pointer;\n",
              "      display: none;\n",
              "      fill: #1967D2;\n",
              "      height: 32px;\n",
              "      padding: 0 0 0 0;\n",
              "      width: 32px;\n",
              "    }\n",
              "\n",
              "    .colab-df-convert:hover {\n",
              "      background-color: #E2EBFA;\n",
              "      box-shadow: 0px 1px 2px rgba(60, 64, 67, 0.3), 0px 1px 3px 1px rgba(60, 64, 67, 0.15);\n",
              "      fill: #174EA6;\n",
              "    }\n",
              "\n",
              "    .colab-df-buttons div {\n",
              "      margin-bottom: 4px;\n",
              "    }\n",
              "\n",
              "    [theme=dark] .colab-df-convert {\n",
              "      background-color: #3B4455;\n",
              "      fill: #D2E3FC;\n",
              "    }\n",
              "\n",
              "    [theme=dark] .colab-df-convert:hover {\n",
              "      background-color: #434B5C;\n",
              "      box-shadow: 0px 1px 3px 1px rgba(0, 0, 0, 0.15);\n",
              "      filter: drop-shadow(0px 1px 2px rgba(0, 0, 0, 0.3));\n",
              "      fill: #FFFFFF;\n",
              "    }\n",
              "  </style>\n",
              "\n",
              "    <script>\n",
              "      const buttonEl =\n",
              "        document.querySelector('#df-ad04188f-78aa-492e-8cff-fe40e4932503 button.colab-df-convert');\n",
              "      buttonEl.style.display =\n",
              "        google.colab.kernel.accessAllowed ? 'block' : 'none';\n",
              "\n",
              "      async function convertToInteractive(key) {\n",
              "        const element = document.querySelector('#df-ad04188f-78aa-492e-8cff-fe40e4932503');\n",
              "        const dataTable =\n",
              "          await google.colab.kernel.invokeFunction('convertToInteractive',\n",
              "                                                    [key], {});\n",
              "        if (!dataTable) return;\n",
              "\n",
              "        const docLinkHtml = 'Like what you see? Visit the ' +\n",
              "          '<a target=\"_blank\" href=https://colab.research.google.com/notebooks/data_table.ipynb>data table notebook</a>'\n",
              "          + ' to learn more about interactive tables.';\n",
              "        element.innerHTML = '';\n",
              "        dataTable['output_type'] = 'display_data';\n",
              "        await google.colab.output.renderOutput(dataTable, element);\n",
              "        const docLink = document.createElement('div');\n",
              "        docLink.innerHTML = docLinkHtml;\n",
              "        element.appendChild(docLink);\n",
              "      }\n",
              "    </script>\n",
              "  </div>\n",
              "\n",
              "\n",
              "<div id=\"df-b2bffd7d-6cea-4986-b32c-6ee38e8c37de\">\n",
              "  <button class=\"colab-df-quickchart\" onclick=\"quickchart('df-b2bffd7d-6cea-4986-b32c-6ee38e8c37de')\"\n",
              "            title=\"Suggest charts\"\n",
              "            style=\"display:none;\">\n",
              "\n",
              "<svg xmlns=\"http://www.w3.org/2000/svg\" height=\"24px\"viewBox=\"0 0 24 24\"\n",
              "     width=\"24px\">\n",
              "    <g>\n",
              "        <path d=\"M19 3H5c-1.1 0-2 .9-2 2v14c0 1.1.9 2 2 2h14c1.1 0 2-.9 2-2V5c0-1.1-.9-2-2-2zM9 17H7v-7h2v7zm4 0h-2V7h2v10zm4 0h-2v-4h2v4z\"/>\n",
              "    </g>\n",
              "</svg>\n",
              "  </button>\n",
              "\n",
              "<style>\n",
              "  .colab-df-quickchart {\n",
              "      --bg-color: #E8F0FE;\n",
              "      --fill-color: #1967D2;\n",
              "      --hover-bg-color: #E2EBFA;\n",
              "      --hover-fill-color: #174EA6;\n",
              "      --disabled-fill-color: #AAA;\n",
              "      --disabled-bg-color: #DDD;\n",
              "  }\n",
              "\n",
              "  [theme=dark] .colab-df-quickchart {\n",
              "      --bg-color: #3B4455;\n",
              "      --fill-color: #D2E3FC;\n",
              "      --hover-bg-color: #434B5C;\n",
              "      --hover-fill-color: #FFFFFF;\n",
              "      --disabled-bg-color: #3B4455;\n",
              "      --disabled-fill-color: #666;\n",
              "  }\n",
              "\n",
              "  .colab-df-quickchart {\n",
              "    background-color: var(--bg-color);\n",
              "    border: none;\n",
              "    border-radius: 50%;\n",
              "    cursor: pointer;\n",
              "    display: none;\n",
              "    fill: var(--fill-color);\n",
              "    height: 32px;\n",
              "    padding: 0;\n",
              "    width: 32px;\n",
              "  }\n",
              "\n",
              "  .colab-df-quickchart:hover {\n",
              "    background-color: var(--hover-bg-color);\n",
              "    box-shadow: 0 1px 2px rgba(60, 64, 67, 0.3), 0 1px 3px 1px rgba(60, 64, 67, 0.15);\n",
              "    fill: var(--button-hover-fill-color);\n",
              "  }\n",
              "\n",
              "  .colab-df-quickchart-complete:disabled,\n",
              "  .colab-df-quickchart-complete:disabled:hover {\n",
              "    background-color: var(--disabled-bg-color);\n",
              "    fill: var(--disabled-fill-color);\n",
              "    box-shadow: none;\n",
              "  }\n",
              "\n",
              "  .colab-df-spinner {\n",
              "    border: 2px solid var(--fill-color);\n",
              "    border-color: transparent;\n",
              "    border-bottom-color: var(--fill-color);\n",
              "    animation:\n",
              "      spin 1s steps(1) infinite;\n",
              "  }\n",
              "\n",
              "  @keyframes spin {\n",
              "    0% {\n",
              "      border-color: transparent;\n",
              "      border-bottom-color: var(--fill-color);\n",
              "      border-left-color: var(--fill-color);\n",
              "    }\n",
              "    20% {\n",
              "      border-color: transparent;\n",
              "      border-left-color: var(--fill-color);\n",
              "      border-top-color: var(--fill-color);\n",
              "    }\n",
              "    30% {\n",
              "      border-color: transparent;\n",
              "      border-left-color: var(--fill-color);\n",
              "      border-top-color: var(--fill-color);\n",
              "      border-right-color: var(--fill-color);\n",
              "    }\n",
              "    40% {\n",
              "      border-color: transparent;\n",
              "      border-right-color: var(--fill-color);\n",
              "      border-top-color: var(--fill-color);\n",
              "    }\n",
              "    60% {\n",
              "      border-color: transparent;\n",
              "      border-right-color: var(--fill-color);\n",
              "    }\n",
              "    80% {\n",
              "      border-color: transparent;\n",
              "      border-right-color: var(--fill-color);\n",
              "      border-bottom-color: var(--fill-color);\n",
              "    }\n",
              "    90% {\n",
              "      border-color: transparent;\n",
              "      border-bottom-color: var(--fill-color);\n",
              "    }\n",
              "  }\n",
              "</style>\n",
              "\n",
              "  <script>\n",
              "    async function quickchart(key) {\n",
              "      const quickchartButtonEl =\n",
              "        document.querySelector('#' + key + ' button');\n",
              "      quickchartButtonEl.disabled = true;  // To prevent multiple clicks.\n",
              "      quickchartButtonEl.classList.add('colab-df-spinner');\n",
              "      try {\n",
              "        const charts = await google.colab.kernel.invokeFunction(\n",
              "            'suggestCharts', [key], {});\n",
              "      } catch (error) {\n",
              "        console.error('Error during call to suggestCharts:', error);\n",
              "      }\n",
              "      quickchartButtonEl.classList.remove('colab-df-spinner');\n",
              "      quickchartButtonEl.classList.add('colab-df-quickchart-complete');\n",
              "    }\n",
              "    (() => {\n",
              "      let quickchartButtonEl =\n",
              "        document.querySelector('#df-b2bffd7d-6cea-4986-b32c-6ee38e8c37de button');\n",
              "      quickchartButtonEl.style.display =\n",
              "        google.colab.kernel.accessAllowed ? 'block' : 'none';\n",
              "    })();\n",
              "  </script>\n",
              "</div>\n",
              "\n",
              "    </div>\n",
              "  </div>\n"
            ],
            "application/vnd.google.colaboratory.intrinsic+json": {
              "type": "dataframe",
              "variable_name": "dados_ceaps"
            }
          },
          "metadata": {},
          "execution_count": 33
        }
      ]
    },
    {
      "cell_type": "code",
      "source": [
        "dados_ceaps.shape"
      ],
      "metadata": {
        "colab": {
          "base_uri": "https://localhost:8080/"
        },
        "id": "-d8O8_ovhGxZ",
        "outputId": "2804f67f-5d87-4d3f-f7b0-2a36398b97c8"
      },
      "execution_count": 34,
      "outputs": [
        {
          "output_type": "execute_result",
          "data": {
            "text/plain": [
              "(317984, 11)"
            ]
          },
          "metadata": {},
          "execution_count": 34
        }
      ]
    },
    {
      "cell_type": "code",
      "source": [
        "dados_ceaps['ANO'].unique()"
      ],
      "metadata": {
        "colab": {
          "base_uri": "https://localhost:8080/"
        },
        "id": "f27oFXafhS1V",
        "outputId": "d8bc3ac7-fb0a-4201-9b4d-dd9e2a43a16a"
      },
      "execution_count": 36,
      "outputs": [
        {
          "output_type": "execute_result",
          "data": {
            "text/plain": [
              "array([2008, 2009, 2010, 2011, 2012, 2013, 2014, 2015, 2016, 2017, 2018,\n",
              "       2019, 2020, 2021, 2022])"
            ]
          },
          "metadata": {},
          "execution_count": 36
        }
      ]
    },
    {
      "cell_type": "markdown",
      "source": [
        "Agora que os dados foram juntados em uma única base, podemos prosseguir com os tratamentos futuros da base e com a análise."
      ],
      "metadata": {
        "id": "T7iJBnU4haYp"
      }
    }
  ]
}