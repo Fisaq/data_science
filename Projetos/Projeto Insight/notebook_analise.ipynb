# %% [markdown]
# ### **Carregando os Dados**

# %%
import pandas as pd
import numpy as np
import matplotlib.pyplot as plt
import seaborn as sns

# %%
df = pd.read_csv('/content/drive/MyDrive/Colab Notebooks/analise_vendas_imoveis/dados_imoveis.csv')

# %%
qtd_linhas = df.shape[0]
qtd_colunas = df.shape[1]
print(f'Tamanho do DataFrame:\nColunas: {qtd_colunas}\nLinhas: {qtd_linhas}')

# %%
nome_colunas = df.columns
print(f'COLUNAS DATAFRAME: \n\n{nome_colunas}')

# %%
df.head()

# %% [markdown]
# ### **Dicionário de Dados**

# %% [markdown]
# | Coluna | Descrição |
# |--------|-----------|
# id | referência de cada imóvel
# date | data de registro do imóvel na base de dados
# price | refere-se ao preço do imóvel
# bedrooms | quantidade de banheiros
# bathrooms | quantidade de quartos
# sqft_living | área construida do imóvel em pés quadrados(f²)
# sqft_lot | área total do lote em pés quadrados(f²)
# floors | quantidade de andares
# waterfront | campo booleano que indica se o imóvel possui vista para o mar
# view | indica a qualidade da vista em uma escala de [0 - 4]
# condition | indica as condicoes do imóvel em uma escala de [1 - 5]
# grade | avaliacao do imovel
# sqft_above | area construida nos pavimentos de cima do imóvel em pés quadrados(f²)
# sqft_basement | area construida no subsolo do imovel em pés quadrados(f²)
# yr_built | ano de construção do imóvel
# yr_renovated | ano de reforma do imóvel
# zipcode | cep
# lat | latitude
# long | logitude
# sqft_living15 | área habitável do imóvel, em pés quadrados(f²), em relação aos 15 vizinhos mais próximos
# sqft_lot15 | area habitável do terreno, em pés quadrados(f²), em relação aos 15 vizinhos mais próximos

# %% [markdown]
# ### **Explorando os Dados**

# %%
# Avaliando Dados Nulos
df.isnull().sum()

# %% [markdown]
# Por se tratar de uma base do Kaggle, é esperado que alguns tratamentos prévios foram realizados, o que se comprova pela falta de dados Nulos.

# %%
print('Informações do DataFrame, antes do tratamento:\n')
print(df.info())

# %% [markdown]
# Algumas variáveis parecem estar em um formato não habitual, como por exemplo **bathrooms** e **floors** que estão com o tipo *float*. Uma transformação na coluna **date** também seria interessante para facilitar cálculos futuros.

# %%
df = df.astype({'bathrooms': 'int', 'floors': 'int'})

# %%
df['date'] = pd.to_datetime(df['date'])

# %%
print('Informações do DataFrame, após tratamento:\n')
print(df.info())
